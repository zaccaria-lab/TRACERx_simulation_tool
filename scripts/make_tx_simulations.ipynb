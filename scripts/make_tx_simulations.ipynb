{
 "cells": [
  {
   "cell_type": "code",
   "execution_count": 1,
   "metadata": {},
   "outputs": [],
   "source": [
    "import pandas as pd\n",
    "import numpy as np\n",
    "import sys\n",
    "sys.path.append('./../src/')\n",
    "from make_simulation import *"
   ]
  },
  {
   "cell_type": "markdown",
   "metadata": {},
   "source": [
    "## Create TRACERx simulated evolutionary trees and sequencing data"
   ]
  },
  {
   "cell_type": "code",
   "execution_count": 2,
   "metadata": {},
   "outputs": [],
   "source": [
    "# Input parameters\n",
    "\n",
    "n_sims_per_sample_group = 1\n",
    "sample_group_boundaries = (3, 7)\n",
    "output_dir = '/mnt/c/Users/abibu/Documents/Education/4_UCL/Project/Benchmarking/test_sim_tool/'"
   ]
  },
  {
   "cell_type": "code",
   "execution_count": 3,
   "metadata": {},
   "outputs": [
    {
     "name": "stdout",
     "output_type": "stream",
     "text": [
      "LTXSIM001: WARNING: Due to % mutation losses specified, the proportion of truncal losses is capped to 0.53\n",
      "WARNING: Due to % losses, the proportion of mutations lost is capped to 0.2491\n",
      "WARNING: The % subclonal CNAs > % subclonal SNVs and the constant_multiplicity is set to True. The proportion of subclonal CNAs is capped to 0.19\n",
      "LTXSIM002: LTXSIM003: WARNING: The % subclonal CNAs > % subclonal SNVs and the constant_multiplicity is set to True. The proportion of subclonal CNAs is capped to 0.31\n"
     ]
    }
   ],
   "source": [
    "simulation = make_tx_simulations(n_sims_per_sample_group=n_sims_per_sample_group, sample_group_boundaries=sample_group_boundaries, output_dir=output_dir)"
   ]
  },
  {
   "cell_type": "code",
   "execution_count": null,
   "metadata": {},
   "outputs": [],
   "source": []
  }
 ],
 "metadata": {
  "interpreter": {
   "hash": "f5a9dd1f399ebfcb7c810a1ea0558b60e11a0674048b37394be3057c9b54dc47"
  },
  "kernelspec": {
   "display_name": "Python 3.9.5 ('phdtraining')",
   "language": "python",
   "name": "python3"
  },
  "language_info": {
   "codemirror_mode": {
    "name": "ipython",
    "version": 3
   },
   "file_extension": ".py",
   "mimetype": "text/x-python",
   "name": "python",
   "nbconvert_exporter": "python",
   "pygments_lexer": "ipython3",
   "version": "3.9.5"
  },
  "orig_nbformat": 4
 },
 "nbformat": 4,
 "nbformat_minor": 2
}
